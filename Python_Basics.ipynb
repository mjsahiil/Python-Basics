{
  "nbformat": 4,
  "nbformat_minor": 0,
  "metadata": {
    "colab": {
      "provenance": []
    },
    "kernelspec": {
      "name": "python3",
      "display_name": "Python 3"
    },
    "language_info": {
      "name": "python"
    }
  },
  "cells": [
    {
      "cell_type": "code",
      "execution_count": null,
      "metadata": {
        "id": "qgkEe84P6bJ9"
      },
      "outputs": [],
      "source": []
    },
    {
      "cell_type": "markdown",
      "source": [
        "##Python Basics\n",
        "\n",
        "1) What is Python, and why is it popular?\n",
        "  \n",
        "  -  Python is a programming language  easy to understand and write, making it a popular choice among developers and programmers because it is easy to read and write. It is also used in many areas like websites, data, and games and Python has a large and active community of developers, an extensive standard library, and third-party packages for various domains\n",
        "\n",
        "2) What is an interpreter in Python?\n",
        "\n",
        "   - An interpreter reads Python code line by line and runs it.\n",
        "\n",
        "3) what are pre-defined keywords in Python?\n",
        "\n",
        "   -Keywords are reserved words in Python that have special meanings and cannot be used as identifiers (variable names, function names, etc.).\n",
        "  Examples of keywords include if, else, while, for, def, class, import, try, except, return, True, False, None, etc.\n",
        "\n",
        "4) Can keywords be used as variable names?\n",
        "\n",
        "   - No, we cannot use keywords as variable names.\n",
        "\n",
        "5) What is mutability in Python?\n",
        "\n",
        "  - Mutability means something can be changed. If it is mutable, we can change it. If it is immutable, we cannot change it.\n",
        "\n",
        "6) Why are lists mutable, but tuples are immutable?\n",
        "   \n",
        "   - lits can be changed (like adding or removing items). Tuples cannot be changed after we create them.\n",
        "\n",
        "7) What is the difference between == and is operators in Python?\n",
        "\n",
        " -    == checks if the values are the same.\n",
        "    is checks if they are the same object in memory.\n",
        "\n",
        "8) what are logical operators in Python?\n",
        "  \n",
        "  - Logical operators are: and, or, not.\n",
        "They help in making decisions.\n",
        "\n",
        "9) What is type casting in Python?\n",
        "  \n",
        "  -  Changing one data type to another is called type casting. Example: int(\"5\") changes string \"5\" to number 5\n",
        "\n",
        "10) what is the difference between implicit and explicit type casting?\n",
        "\n",
        "   -\n",
        "  Implicit: Python changes the type by itself.\n",
        "\n",
        "Explicit: We tell Python to change the type.\n",
        "\n",
        "11)  What is the purpose of conditional statements in Python?\n",
        "    \n",
        "    - Conditional statements help us run code only when a condition is true. Example: if.\n",
        "\n",
        "12) How does the elif statement work?\n",
        "     \n",
        "     - elif means \"else if\". It checks another condition if the first one is false.\n",
        "\n",
        "13) What is the difference between for and while loops?\n",
        "\n",
        "  - “for” loops are used for iterating over a sequence of elements, while “while” loops are used for executing code until a specified condition becomes False\n",
        "\n",
        "14) Describe a scenario where a while loop is more suitable than a for loop.\n",
        "\n",
        "\n",
        "   - When we don’t know how many times we need to repeat something, we can use a while loop. Example: Keep asking a question until the answer is correct.\n",
        "\n",
        "\n",
        "\n",
        "\n"
      ],
      "metadata": {
        "id": "UWpY08Ru6c_i"
      }
    },
    {
      "cell_type": "markdown",
      "source": [],
      "metadata": {
        "id": "qeps0-ulAbTz"
      }
    },
    {
      "cell_type": "code",
      "source": [
        "#Write a Python program to print \"Hello, World!\"\n",
        "print(\"Hello, World!\")\n",
        "\n"
      ],
      "metadata": {
        "colab": {
          "base_uri": "https://localhost:8080/"
        },
        "id": "qsCSGoeJBX3A",
        "outputId": "9fa1e824-23b9-4051-9240-430c9d69900e"
      },
      "execution_count": 1,
      "outputs": [
        {
          "output_type": "stream",
          "name": "stdout",
          "text": [
            "Hello, World!\n"
          ]
        }
      ]
    },
    {
      "cell_type": "code",
      "source": [
        "# Write a Python program that displays your name and age\n",
        "name = \"Sahil\"\n",
        "age = 24\n",
        "print(\"My name is\", name)\n",
        "print(\"I am\", age, \"years old\")\n"
      ],
      "metadata": {
        "colab": {
          "base_uri": "https://localhost:8080/"
        },
        "id": "ouHQI1RZCFjP",
        "outputId": "6396a3cd-c3bf-4144-a86b-a647c068aea4"
      },
      "execution_count": 2,
      "outputs": [
        {
          "output_type": "stream",
          "name": "stdout",
          "text": [
            "My name is Sahil\n",
            "I am 24 years old\n"
          ]
        }
      ]
    },
    {
      "cell_type": "code",
      "source": [
        "#Write code to print all the pre-defined keywords in Python using the keyword library\n",
        "\n",
        "import keyword\n",
        "print(keyword.kwlist)\n"
      ],
      "metadata": {
        "colab": {
          "base_uri": "https://localhost:8080/"
        },
        "id": "YKVbg8OVC6WT",
        "outputId": "bc569325-2a7d-4725-aa68-701a4bef1678"
      },
      "execution_count": 6,
      "outputs": [
        {
          "output_type": "stream",
          "name": "stdout",
          "text": [
            "['False', 'None', 'True', 'and', 'as', 'assert', 'async', 'await', 'break', 'class', 'continue', 'def', 'del', 'elif', 'else', 'except', 'finally', 'for', 'from', 'global', 'if', 'import', 'in', 'is', 'lambda', 'nonlocal', 'not', 'or', 'pass', 'raise', 'return', 'try', 'while', 'with', 'yield']\n"
          ]
        }
      ]
    },
    {
      "cell_type": "code",
      "source": [
        "# Write a program that checks if a given word is a Python keyword.\n",
        "\n",
        "import keyword\n",
        "word = \"if\"\n",
        "print(keyword.iskeyword(word))\n"
      ],
      "metadata": {
        "colab": {
          "base_uri": "https://localhost:8080/"
        },
        "id": "0CYxkh9bDCoL",
        "outputId": "aa1625b9-aa1b-4604-c872-98e749339422"
      },
      "execution_count": 7,
      "outputs": [
        {
          "output_type": "stream",
          "name": "stdout",
          "text": [
            "True\n"
          ]
        }
      ]
    },
    {
      "cell_type": "code",
      "source": [
        "# Create a list and tuple in Python, and demonstrate how attempting to change an element works differently\n",
        " my_list = [1, 2, 3]\n",
        "my_tuple = (1, 2, 3)\n",
        "\n",
        "my_list[0] = 10\n",
        "print(\"List after change:\", my_list)\n",
        "\n",
        "# my_tuple[0] = 10  # This will give error\n",
        "\n"
      ],
      "metadata": {
        "colab": {
          "base_uri": "https://localhost:8080/",
          "height": 110
        },
        "id": "cyQxvEqWD0qr",
        "outputId": "15cb7256-cc97-4466-d73c-b1476495082c"
      },
      "execution_count": 11,
      "outputs": [
        {
          "output_type": "error",
          "ename": "IndentationError",
          "evalue": "unexpected indent (<ipython-input-11-e4851060ef17>, line 2)",
          "traceback": [
            "\u001b[0;36m  File \u001b[0;32m\"<ipython-input-11-e4851060ef17>\"\u001b[0;36m, line \u001b[0;32m2\u001b[0m\n\u001b[0;31m    my_list = [1, 2, 3]\u001b[0m\n\u001b[0m    ^\u001b[0m\n\u001b[0;31mIndentationError\u001b[0m\u001b[0;31m:\u001b[0m unexpected indent\n"
          ]
        }
      ]
    },
    {
      "cell_type": "code",
      "source": [
        " # Write a function to demonstrate the behavior of mutable and immutable arguments\n",
        "\n",
        " def change_list(mylist):\n",
        "    mylist.append(4)\n",
        "\n",
        "def change_int(num):\n",
        "    num += 1\n",
        "\n",
        "a = [1, 2, 3]\n",
        "b = 5\n",
        "change_list(a)\n",
        "change_int(b)\n",
        "print(\"List:\", a)\n",
        "print(\"Integer:\", b)\n"
      ],
      "metadata": {
        "colab": {
          "base_uri": "https://localhost:8080/"
        },
        "id": "7wYLbMecEEWS",
        "outputId": "7c86eb65-f1a9-476c-9f02-5f71d79f75dd"
      },
      "execution_count": 12,
      "outputs": [
        {
          "output_type": "stream",
          "name": "stdout",
          "text": [
            "List: [1, 2, 3, 4]\n",
            "Integer: 5\n"
          ]
        }
      ]
    },
    {
      "cell_type": "code",
      "source": [
        "# Write a program that performs basic arithmetic operations on two user-input numbers\n",
        "\n",
        "a = int(input(\"Enter first number: \"))\n",
        "b = int(input(\"Enter second number: \"))\n",
        "print(\"Sum:\", a + b)\n",
        "print(\"Difference:\", a - b)\n",
        "print(\"Product:\", a * b)\n",
        "print(\"Quotient:\", a / b)\n"
      ],
      "metadata": {
        "colab": {
          "base_uri": "https://localhost:8080/"
        },
        "id": "8RiKkAEyET88",
        "outputId": "4b45b783-18e6-4198-9fa5-24530f617371"
      },
      "execution_count": 13,
      "outputs": [
        {
          "output_type": "stream",
          "name": "stdout",
          "text": [
            "Enter first number: 8\n",
            "Enter second number: 4\n",
            "Sum: 12\n",
            "Difference: 4\n",
            "Product: 32\n",
            "Quotient: 2.0\n"
          ]
        }
      ]
    },
    {
      "cell_type": "code",
      "source": [
        "# Write a program to demonstrate the use of logical operators\n",
        "\n",
        "a = 10\n",
        "b = 5\n",
        "print(a > 5 and b < 10)\n",
        "print(a < 5 or b < 10)\n",
        "print(not (a == 10))\n"
      ],
      "metadata": {
        "colab": {
          "base_uri": "https://localhost:8080/"
        },
        "id": "nKqeDVmOFEZK",
        "outputId": "559e3bd6-e736-46b0-f96a-bf3e0b7aff1b"
      },
      "execution_count": 14,
      "outputs": [
        {
          "output_type": "stream",
          "name": "stdout",
          "text": [
            "True\n",
            "True\n",
            "False\n"
          ]
        }
      ]
    },
    {
      "cell_type": "code",
      "source": [
        "#  Write a Python program to convert user input from string to integer, float, and boolean types\n",
        "\n",
        "s = \"5\"\n",
        "print(int(s))\n",
        "print(float(s))\n",
        "print(bool(s))\n"
      ],
      "metadata": {
        "colab": {
          "base_uri": "https://localhost:8080/"
        },
        "id": "6rWd9FMqFR-Z",
        "outputId": "76bcebca-d3a6-419f-ec0d-824050d4b4cb"
      },
      "execution_count": 15,
      "outputs": [
        {
          "output_type": "stream",
          "name": "stdout",
          "text": [
            "5\n",
            "5.0\n",
            "True\n"
          ]
        }
      ]
    },
    {
      "cell_type": "code",
      "source": [
        "# Write code to demonstrate type casting with list elements.\n",
        "\n",
        "my_list = [\"1\", \"2\", \"3\"]\n",
        "new_list = [int(x) for x in my_list]\n",
        "print(new_list)\n"
      ],
      "metadata": {
        "colab": {
          "base_uri": "https://localhost:8080/"
        },
        "id": "l19xzvpGF6cC",
        "outputId": "ab8a8c2e-4c4b-4496-a3f8-7dd9cb80cad2"
      },
      "execution_count": 16,
      "outputs": [
        {
          "output_type": "stream",
          "name": "stdout",
          "text": [
            "[1, 2, 3]\n"
          ]
        }
      ]
    },
    {
      "cell_type": "code",
      "source": [
        "# Write a program that checks if a number is positive, negative, or zero.\n",
        "\n",
        "num = int(input(\"Enter a number: \"))\n",
        "if num > 0:\n",
        "    print(\"Positive\")\n",
        "elif num < 0:\n",
        "    print(\"Negative\")\n",
        "else:\n",
        "    print(\"Zero\")\n"
      ],
      "metadata": {
        "colab": {
          "base_uri": "https://localhost:8080/"
        },
        "id": "hcdqwqZ4GIjZ",
        "outputId": "dfde99bc-4563-4ae3-e059-a4a3b50b2aef"
      },
      "execution_count": 17,
      "outputs": [
        {
          "output_type": "stream",
          "name": "stdout",
          "text": [
            "Enter a number: 7\n",
            "Positive\n"
          ]
        }
      ]
    },
    {
      "cell_type": "code",
      "source": [
        "# Write a for loop to print numbers from 1 to 10.\n",
        "\n",
        "for i in range(1, 11):\n",
        "    print(i)\n"
      ],
      "metadata": {
        "colab": {
          "base_uri": "https://localhost:8080/"
        },
        "id": "TXibWblbGWMU",
        "outputId": "71cd36ab-01a6-4ce9-b58c-8a8b0d7d01aa"
      },
      "execution_count": 18,
      "outputs": [
        {
          "output_type": "stream",
          "name": "stdout",
          "text": [
            "1\n",
            "2\n",
            "3\n",
            "4\n",
            "5\n",
            "6\n",
            "7\n",
            "8\n",
            "9\n",
            "10\n"
          ]
        }
      ]
    },
    {
      "cell_type": "code",
      "source": [
        "# Write a Python program to find the sum of all even numbers between 1 and 50.\n",
        "\n",
        "sum = 0\n",
        "for i in range(2, 51, 2):\n",
        "    sum += i\n",
        "print(\"Sum of even numbers:\", sum)\n"
      ],
      "metadata": {
        "colab": {
          "base_uri": "https://localhost:8080/"
        },
        "id": "JGkeXDBMG1hE",
        "outputId": "6ffc2874-e749-47f2-a5f0-7b4976809bd2"
      },
      "execution_count": 19,
      "outputs": [
        {
          "output_type": "stream",
          "name": "stdout",
          "text": [
            "Sum of even numbers: 650\n"
          ]
        }
      ]
    },
    {
      "cell_type": "code",
      "source": [
        "# Write a program to reverse a string using a while loop.\n",
        "\n",
        "s = \"hello\"\n",
        "rev = \"\"\n",
        "i = len(s) - 1\n",
        "while i >= 0:\n",
        "    rev += s[i]\n",
        "    i -= 1\n",
        "print(rev)\n"
      ],
      "metadata": {
        "colab": {
          "base_uri": "https://localhost:8080/"
        },
        "id": "qylnuGNBHGAd",
        "outputId": "78348a1e-d3d8-4616-afd9-337f7d9ff609"
      },
      "execution_count": 20,
      "outputs": [
        {
          "output_type": "stream",
          "name": "stdout",
          "text": [
            "olleh\n"
          ]
        }
      ]
    },
    {
      "cell_type": "code",
      "source": [
        "# Write a Python program to calculate the factorial of a number provided by the user using a while loop\n",
        "\n",
        "num = int(input(\"Enter a number: \"))\n",
        "fact = 1\n",
        "while num > 0:\n",
        "    fact *= num\n",
        "    num -= 1\n",
        "print(\"Factorial is:\", fact)\n"
      ],
      "metadata": {
        "colab": {
          "base_uri": "https://localhost:8080/"
        },
        "id": "c8l1-sk5HQj2",
        "outputId": "8f602b3f-195a-49bb-aa63-7ab66556d887"
      },
      "execution_count": 21,
      "outputs": [
        {
          "output_type": "stream",
          "name": "stdout",
          "text": [
            "Enter a number: 4\n",
            "Factorial is: 24\n"
          ]
        }
      ]
    }
  ]
}